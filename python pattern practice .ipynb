{
 "cells": [
  {
   "cell_type": "markdown",
   "metadata": {},
   "source": [
    "### Pattern programs \n",
    "1."
   ]
  },
  {
   "cell_type": "code",
   "execution_count": 1,
   "metadata": {},
   "outputs": [],
   "source": [
    "def pattern1(n):\n",
    "    for i in range(n+1):\n",
    "        print(\"*\"*i)"
   ]
  },
  {
   "cell_type": "code",
   "execution_count": 2,
   "metadata": {},
   "outputs": [
    {
     "name": "stdout",
     "output_type": "stream",
     "text": [
      "\n",
      "*\n",
      "**\n",
      "***\n",
      "****\n",
      "*****\n"
     ]
    }
   ],
   "source": [
    "pattern1(5)\n"
   ]
  },
  {
   "cell_type": "code",
   "execution_count": 29,
   "metadata": {},
   "outputs": [
    {
     "name": "stdout",
     "output_type": "stream",
     "text": [
      "     *\n",
      "    **\n",
      "   ***\n",
      "  ****\n",
      " *****\n"
     ]
    }
   ],
   "source": [
    "for i in range(5,0,-1):\n",
    "    for j in range(0,i):\n",
    "        print(\" \",end=\"\");\n",
    "    print(\"*\"*(5-j))\n"
   ]
  },
  {
   "cell_type": "code",
   "execution_count": 5,
   "metadata": {},
   "outputs": [
    {
     "name": "stdout",
     "output_type": "stream",
     "text": [
      "*****\n",
      "****\n",
      "***\n",
      "**\n",
      "*\n"
     ]
    }
   ],
   "source": [
    "def pattern3(n):\n",
    "    i=n;\n",
    "    while i>=1:\n",
    "        for j in range(i):\n",
    "            print(\"*\",end=\"\")\n",
    "        print(\"\")\n",
    "        i = i-1;\n",
    "# first way         \n",
    "pattern3(5)\n"
   ]
  },
  {
   "cell_type": "code",
   "execution_count": 6,
   "metadata": {},
   "outputs": [
    {
     "name": "stdout",
     "output_type": "stream",
     "text": [
      "*****\n",
      "****\n",
      "***\n",
      "**\n",
      "*\n"
     ]
    }
   ],
   "source": [
    "# second way         \n",
    "for i in range(5,0,-1):\n",
    "    print(\"*\"*i)"
   ]
  },
  {
   "cell_type": "code",
   "execution_count": 61,
   "metadata": {},
   "outputs": [
    {
     "name": "stdout",
     "output_type": "stream",
     "text": [
      "*****\n",
      " ****\n",
      "  ***\n",
      "   **\n",
      "    *\n"
     ]
    }
   ],
   "source": [
    "for i in range(5):\n",
    "    for j in range(i):\n",
    "        print(' ',end=\"\")\n",
    "    print(\"*\"*(5-i))"
   ]
  },
  {
   "cell_type": "code",
   "execution_count": 101,
   "metadata": {},
   "outputs": [
    {
     "name": "stdout",
     "output_type": "stream",
     "text": [
      "       *\n",
      "      ***\n",
      "     *****\n",
      "    *******\n",
      "   *********\n"
     ]
    }
   ],
   "source": [
    "count=1\n",
    "for i in range(5,0,-1):\n",
    "    count= count+1\n",
    "    for j in range(0,i+2):\n",
    "        print(\" \",end=\"\");\n",
    "    print(\"*\"*(5-j+count))"
   ]
  },
  {
   "cell_type": "code",
   "execution_count": 109,
   "metadata": {},
   "outputs": [
    {
     "name": "stdout",
     "output_type": "stream",
     "text": [
      "  *********\n",
      "   *******\n",
      "    *****\n",
      "     ***\n",
      "      *\n"
     ]
    }
   ],
   "source": [
    "n=5\n",
    "count = n;\n",
    "for i in range(n):\n",
    "    count=count-1\n",
    "    for j in range(i+2):\n",
    "        print(' ',end=\"\")\n",
    "    print(\"*\"*(n-i+count))"
   ]
  },
  {
   "cell_type": "code",
   "execution_count": 112,
   "metadata": {},
   "outputs": [
    {
     "name": "stdout",
     "output_type": "stream",
     "text": [
      "      *\n",
      "     ***\n",
      "    *****\n",
      "   *******\n",
      "  *********\n",
      "   *******\n",
      "    *****\n",
      "     ***\n",
      "      *\n"
     ]
    }
   ],
   "source": [
    "count=1\n",
    "for i in range(4,0,-1):\n",
    "    count= count+1\n",
    "    for j in range(0,i+2):\n",
    "        print(\" \",end=\"\");\n",
    "    print(\"*\"*(4-j+count))\n",
    "n=5\n",
    "count = n;\n",
    "for i in range(n):\n",
    "    count=count-1\n",
    "    for j in range(i+2):\n",
    "        print(' ',end=\"\")\n",
    "    print(\"*\"*(n-i+count))"
   ]
  },
  {
   "cell_type": "code",
   "execution_count": 115,
   "metadata": {},
   "outputs": [
    {
     "name": "stdout",
     "output_type": "stream",
     "text": [
      "\n",
      "*\n",
      "**\n",
      "***\n",
      "****\n",
      "*****\n",
      "****\n",
      "***\n",
      "**\n",
      "*\n"
     ]
    }
   ],
   "source": [
    "for i in range(n+1):\n",
    "        print(\"*\"*i)\n",
    "for i in range(4,0,-1):\n",
    "    print(\"*\"*i)"
   ]
  },
  {
   "cell_type": "code",
   "execution_count": 118,
   "metadata": {},
   "outputs": [
    {
     "name": "stdout",
     "output_type": "stream",
     "text": [
      "    *\n",
      "   **\n",
      "  ***\n",
      " ****\n",
      "*****\n",
      " ****\n",
      "  ***\n",
      "   **\n",
      "    *\n"
     ]
    }
   ],
   "source": [
    "for i in range(4,0,-1):\n",
    "    for j in range(0,i):\n",
    "        print(\" \",end=\"\");\n",
    "    print(\"*\"*(4-j))\n",
    "for i in range(5):\n",
    "    for j in range(i):\n",
    "        print(' ',end=\"\")\n",
    "    print(\"*\"*(5-i))\n"
   ]
  },
  {
   "cell_type": "code",
   "execution_count": 120,
   "metadata": {},
   "outputs": [
    {
     "name": "stdout",
     "output_type": "stream",
     "text": [
      "     *****\n",
      "    *****\n",
      "   *****\n",
      "  *****\n",
      " *****\n"
     ]
    }
   ],
   "source": [
    "for i in range(5,0,-1):\n",
    "    for j in range(0,i):\n",
    "        print(\" \",end=\"\");\n",
    "    print(\"*\"*(5))"
   ]
  },
  {
   "cell_type": "code",
   "execution_count": 121,
   "metadata": {},
   "outputs": [
    {
     "name": "stdout",
     "output_type": "stream",
     "text": [
      "*****\n",
      " *****\n",
      "  *****\n",
      "   *****\n",
      "    *****\n"
     ]
    }
   ],
   "source": [
    "for i in range(5):\n",
    "    for j in range(i):\n",
    "        print(' ',end=\"\")\n",
    "    print(\"*\"*(5))"
   ]
  },
  {
   "cell_type": "code",
   "execution_count": 126,
   "metadata": {},
   "outputs": [
    {
     "name": "stdout",
     "output_type": "stream",
     "text": [
      "*****\n",
      "****\n",
      "***\n",
      "**\n",
      "*\n",
      "**\n",
      "***\n",
      "****\n",
      "*****\n"
     ]
    }
   ],
   "source": [
    "for i in range(5,0,-1):\n",
    "    print(\"*\"*i)\n",
    "for i in range(2,6):\n",
    "    print(\"*\"*i)"
   ]
  },
  {
   "cell_type": "code",
   "execution_count": 289,
   "metadata": {},
   "outputs": [
    {
     "name": "stdout",
     "output_type": "stream",
     "text": [
      "******\n",
      " *****\n",
      "  ****\n",
      "   ***\n",
      "    **\n",
      "     *\n",
      "    **\n",
      "   ***\n",
      "  ****\n",
      " *****\n"
     ]
    }
   ],
   "source": [
    "for i in range(5):\n",
    "    for j in range(i):\n",
    "        print(' ',end=\"\")\n",
    "    print(\"*\"*(5-i+1))\n",
    "    \n",
    "for i in range(5,0,-1):\n",
    "    for j in range(i):\n",
    "        print(\" \",end=\"\");\n",
    "    print(\"*\"*(5-j))"
   ]
  },
  {
   "cell_type": "code",
   "execution_count": 194,
   "metadata": {},
   "outputs": [
    {
     "name": "stdout",
     "output_type": "stream",
     "text": [
      "  * * * * * \n",
      "   * * * * \n",
      "    * * * \n",
      "     * * \n",
      "      * \n",
      "     * * \n",
      "    * * * \n",
      "   * * * * \n",
      "  * * * * * \n"
     ]
    }
   ],
   "source": [
    "n=5\n",
    "for i in range(n):\n",
    "    for j in range(i+2):\n",
    "        print(' ',end=\"\")\n",
    "    print(\"* \"*(n-i))\n",
    "    \n",
    "for i in range(4,0,-1):\n",
    "    for j in range(0,i+1):\n",
    "        print(\" \",end=\"\");\n",
    "    print(\"* \"*(4-j+2))"
   ]
  },
  {
   "cell_type": "code",
   "execution_count": 313,
   "metadata": {},
   "outputs": [
    {
     "name": "stdout",
     "output_type": "stream",
     "text": [
      "\n",
      "*\n",
      "**\n",
      "* *\n",
      "*  *\n",
      "*****\n"
     ]
    }
   ],
   "source": [
    "n=5\n",
    "for i in range(n+1):\n",
    "    for j in range(i):\n",
    "        if((i>2)&(i<n)):\n",
    "            if((j==0)or(j==i-1)):\n",
    "                print(\"*\",end=\"\")\n",
    "            else:\n",
    "                print(\" \",end=\"\") \n",
    "        else:\n",
    "            print(\"*\",end=\"\")\n",
    "    print(\"\")"
   ]
  },
  {
   "cell_type": "code",
   "execution_count": 157,
   "metadata": {},
   "outputs": [
    {
     "name": "stdout",
     "output_type": "stream",
     "text": [
      "    *\n",
      "   **\n",
      "  * *\n",
      " *  *\n",
      "*****\n"
     ]
    }
   ],
   "source": [
    "size = 5;\n",
    "matrix = [[' ']*size for i in range(size)]\n",
    "\n",
    "count = 0;\n",
    "for i in range(size-1,-1,-1):\n",
    "    matrix[i][count] = '*'\n",
    "    matrix[i][-1] = '*'\n",
    "    matrix[-1][i] = '*'\n",
    "    count = count +1\n",
    "\n",
    "for i in matrix:\n",
    "    print(\"\".join(i))"
   ]
  },
  {
   "cell_type": "code",
   "execution_count": 306,
   "metadata": {},
   "outputs": [
    {
     "name": "stdout",
     "output_type": "stream",
     "text": [
      "\n",
      "1\n",
      "10\n",
      "101\n",
      "1010\n",
      "10101\n"
     ]
    }
   ],
   "source": [
    "for i in range(5+1):\n",
    "    for j in  range(i):\n",
    "        if j%2==0:\n",
    "            print(\"1\",end=\"\")\n",
    "        else:\n",
    "            print(\"0\",end=\"\")\n",
    "    print(\"\")"
   ]
  },
  {
   "cell_type": "code",
   "execution_count": 36,
   "metadata": {},
   "outputs": [
    {
     "name": "stdout",
     "output_type": "stream",
     "text": [
      "1\n",
      "12\n",
      "123\n",
      "1235\n",
      "12358\n"
     ]
    }
   ],
   "source": [
    "for i in range(1,6):\n",
    "    temp=0\n",
    "    n1=0;\n",
    "    n2=1\n",
    "    for j in range(i):\n",
    "        nth = n1+n2;\n",
    "        print(nth,end=\"\")\n",
    "        n1=n2;\n",
    "        n2=nth\n",
    "        \n",
    "    print(\"\")"
   ]
  },
  {
   "cell_type": "code",
   "execution_count": 30,
   "metadata": {},
   "outputs": [
    {
     "name": "stdout",
     "output_type": "stream",
     "text": [
      "0\n",
      "1\n",
      "1\n",
      "2\n",
      "3\n",
      "5\n",
      "8\n",
      "13\n",
      "21\n"
     ]
    }
   ],
   "source": [
    "# fibnossi series\n",
    "temp=0\n",
    "n1=0\n",
    "n2=1\n",
    "for i in range(9):\n",
    "    nth = n1+n2;\n",
    "    print(n1)\n",
    "    n1=n2;\n",
    "    n2=nth\n",
    "    "
   ]
  },
  {
   "cell_type": "code",
   "execution_count": 42,
   "metadata": {},
   "outputs": [
    {
     "name": "stdout",
     "output_type": "stream",
     "text": [
      "1 0 0 0 0 \n",
      "0 2 0 0 0 \n",
      "0 0 3 0 0 \n",
      "0 0 0 4 0 \n",
      "0 0 0 0 5 \n"
     ]
    }
   ],
   "source": [
    "for i in range(1,6):\n",
    "    for j in range(1,6):\n",
    "        if(i==j):\n",
    "            print(i,end=\" \")\n",
    "        else:\n",
    "            print(0,end=\" \")\n",
    "    print(\"\")"
   ]
  },
  {
   "cell_type": "code",
   "execution_count": 45,
   "metadata": {},
   "outputs": [
    {
     "name": "stdout",
     "output_type": "stream",
     "text": [
      "1 0 0 0 0 \n",
      "0 2 0 0 0 \n",
      "0 0 3 0 0 \n",
      "0 0 0 4 0 \n",
      "0 0 0 0 5 \n"
     ]
    }
   ],
   "source": [
    "for x in range(5):\n",
    "    print(\"0 \"*x,end=\"\")\n",
    "    print(x+1,end=\" \")\n",
    "    print(\"0 \"*(5-x-1))"
   ]
  },
  {
   "cell_type": "code",
   "execution_count": 2,
   "metadata": {},
   "outputs": [
    {
     "name": "stdout",
     "output_type": "stream",
     "text": [
      "15\n",
      "---------------------.|.---------------------\n",
      "------------------.|..|..|.------------------\n",
      "---------------.|..|..|..|..|.---------------\n",
      "------------.|..|..|..|..|..|..|.------------\n",
      "---------.|..|..|..|..|..|..|..|..|.---------\n",
      "------.|..|..|..|..|..|..|..|..|..|..|.------\n",
      "---.|..|..|..|..|..|..|..|..|..|..|..|..|.---\n",
      "-----------------Hello World-----------------\n",
      "---.|..|..|..|..|..|..|..|..|..|..|..|..|.---\n",
      "------.|..|..|..|..|..|..|..|..|..|..|.------\n",
      "---------.|..|..|..|..|..|..|..|..|.---------\n",
      "------------.|..|..|..|..|..|..|.------------\n",
      "---------------.|..|..|..|..|.---------------\n",
      "------------------.|..|..|.------------------\n",
      "---------------------.|.---------------------\n"
     ]
    }
   ],
   "source": [
    "import math\n",
    "# example string\n",
    "\n",
    "string = '.|.'\n",
    "N = int(input())\n",
    "height = N\n",
    "width = N*3\n",
    "\n",
    "# print right justified string\n",
    "count = 0\n",
    "for i in range(1,height):\n",
    "    if i % 2 != 0:\n",
    "        count += 1\n",
    "        print((string*i).center((width),'-'))\n",
    "print(('Hello World').center(width,'-'))\n",
    "\n",
    "for i in range(height-1, 0, -1):\n",
    "    if i % 2 != 0:\n",
    "        count += 1\n",
    "        print((string*i).center((width),'-'))\n",
    "    "
   ]
  },
  {
   "cell_type": "code",
   "execution_count": 38,
   "metadata": {},
   "outputs": [
    {
     "name": "stdout",
     "output_type": "stream",
     "text": [
      "55555\n",
      "45555\n",
      "34555\n",
      "23455\n",
      "12345\n"
     ]
    }
   ],
   "source": [
    "count = 5;\n",
    "for i in range(5):\n",
    "    temp = count\n",
    "    for j in range(i):\n",
    "        print(temp+j,end=\"\")\n",
    "    print(\"5\"*(5-i))\n",
    "    count = count-1;"
   ]
  },
  {
   "cell_type": "code",
   "execution_count": 40,
   "metadata": {},
   "outputs": [
    {
     "name": "stdout",
     "output_type": "stream",
     "text": [
      "\n",
      "1\n",
      "21\n",
      "321\n",
      "4321\n",
      "54321\n"
     ]
    }
   ],
   "source": [
    "for i in range(6):\n",
    "    for j in range(i,0,-1):\n",
    "        print(j,end=\"\")\n",
    "    print(\"\")"
   ]
  },
  {
   "cell_type": "code",
   "execution_count": 41,
   "metadata": {},
   "outputs": [
    {
     "name": "stdout",
     "output_type": "stream",
     "text": [
      "55555\n",
      "54444\n",
      "54333\n",
      "54322\n",
      "54321\n"
     ]
    }
   ],
   "source": [
    "for i in range(5,0,-1):\n",
    "    for j in range(5,0,-1):\n",
    "        if(j<=i):\n",
    "            print(i,end=\"\")\n",
    "        else:\n",
    "            print(j,end=\"\")\n",
    "    print(\"\")"
   ]
  },
  {
   "cell_type": "code",
   "execution_count": 34,
   "metadata": {},
   "outputs": [
    {
     "name": "stdout",
     "output_type": "stream",
     "text": [
      "1 \n",
      "2 4 \n",
      "3 6 9 \n",
      "4 8 12 16 \n",
      "5 10 15 \n",
      "6 12 \n",
      "7 \n"
     ]
    }
   ],
   "source": [
    "count=0\n",
    "for i in range(1,8):\n",
    "    if(i<5):\n",
    "        count = count + 1\n",
    "        for j in range(1,i+1):\n",
    "            print(i*j ,end=\" \")\n",
    "        print(\"\")\n",
    "    else:\n",
    "        for j in range(1,count):\n",
    "            print(i*j ,end=\" \")\n",
    "        print(\"\")\n",
    "        count = count - 1"
   ]
  },
  {
   "cell_type": "code",
   "execution_count": null,
   "metadata": {},
   "outputs": [],
   "source": []
  },
  {
   "cell_type": "code",
   "execution_count": 107,
   "metadata": {},
   "outputs": [
    {
     "name": "stdout",
     "output_type": "stream",
     "text": [
      "55555\n",
      "4 5555\n",
      "3 4 555\n",
      "2 3 4 55\n",
      "1 2 3 4 5\n"
     ]
    }
   ],
   "source": [
    "count = 5;\n",
    "for i in range(5):\n",
    "    temp = count\n",
    "    \n",
    "    for j in range(i):\n",
    "        print(temp+j,end=\" \")\n",
    "    print(\"5\"*(5-i))\n",
    "    count = count-1;"
   ]
  },
  {
   "cell_type": "code",
   "execution_count": 111,
   "metadata": {},
   "outputs": [
    {
     "name": "stdout",
     "output_type": "stream",
     "text": [
      "    5 \n",
      "   4 5 \n",
      "  3 4 5 \n",
      " 2 3 4 5 \n",
      "1 2 3 4 5 \n"
     ]
    }
   ],
   "source": [
    "for i in range(5,0,-1):\n",
    "    print(\" \"*(i-1),end=\"\")\n",
    "    for j in range(i,6):\n",
    "        print(j,end=\" \")\n",
    "    print(\"\")"
   ]
  },
  {
   "cell_type": "code",
   "execution_count": 103,
   "metadata": {},
   "outputs": [
    {
     "name": "stdout",
     "output_type": "stream",
     "text": [
      "    1 \n",
      "   2 2 \n",
      "  3 3 3 \n",
      " 4 4 4 4 \n",
      "5 5 5 5 5 \n"
     ]
    }
   ],
   "source": [
    "count = 4;\n",
    "for i in range(1,6):\n",
    "    print(\" \"*count,end=\"\")\n",
    "    for j in range(i):\n",
    "        print(i,end=\" \")\n",
    "    print(\"\")\n",
    "    count = count-1;"
   ]
  },
  {
   "cell_type": "code",
   "execution_count": 31,
   "metadata": {},
   "outputs": [
    {
     "name": "stdout",
     "output_type": "stream",
     "text": [
      "1\n",
      "22\n",
      "333\n",
      "4444\n",
      "55555\n"
     ]
    }
   ],
   "source": [
    "for i in range(1,6):\n",
    "    for j in range(i):\n",
    "        print(i,end=\"\")\n",
    "    print(\"\")"
   ]
  },
  {
   "cell_type": "code",
   "execution_count": 27,
   "metadata": {},
   "outputs": [
    {
     "name": "stdout",
     "output_type": "stream",
     "text": [
      "* * * * *\n",
      "*       *\n",
      "*       *\n",
      "*       *\n",
      "* * * * *\n"
     ]
    }
   ],
   "source": [
    "size = 5;\n",
    "matrix = [[' ']*size for i in range(size)]\n",
    "\n",
    "for i in range(size):\n",
    "    matrix[0][i] = '*'\n",
    "    matrix[i][0] = '*'\n",
    "    matrix[-1][i] = '*'\n",
    "    matrix[i][-1] = '*'\n",
    "\n",
    "for i in matrix:\n",
    "    print(\" \".join(i))"
   ]
  },
  {
   "cell_type": "code",
   "execution_count": 28,
   "metadata": {},
   "outputs": [
    {
     "name": "stdout",
     "output_type": "stream",
     "text": [
      "* * * * *\n",
      "* $ $ $ *\n",
      "* $ $ $ *\n",
      "* $ $ $ *\n",
      "* * * * *\n"
     ]
    }
   ],
   "source": [
    "size = 5;\n",
    "matrix = [['$']*size for i in range(size)]\n",
    "\n",
    "for i in range(size):\n",
    "    matrix[0][i] = '*'\n",
    "    matrix[i][0] = '*'\n",
    "    matrix[-1][i] = '*'\n",
    "    matrix[i][-1] = '*'\n",
    "\n",
    "for i in matrix:\n",
    "    print(\" \".join(i))"
   ]
  },
  {
   "cell_type": "code",
   "execution_count": 63,
   "metadata": {},
   "outputs": [
    {
     "name": "stdout",
     "output_type": "stream",
     "text": [
      "    *    \n",
      "   * *    \n",
      "  *   *   \n",
      " *     *  \n",
      "*       * \n"
     ]
    }
   ],
   "source": [
    "n=5\n",
    "size = n+n-1;\n",
    "matrix = [['']*size for i in range(n)]\n",
    "\n",
    "count = 0;\n",
    "for i in range(n-1,-1,-1):\n",
    "    matrix[i][count] = '*'\n",
    "    count = count +1\n",
    "count -= 1\n",
    "for i in range(1,n):\n",
    "    matrix[i][count] = '*'\n",
    "    count = count +1    \n",
    "    \n",
    "        \n",
    "\n",
    "for i in matrix:\n",
    "    print(\" \".join(i))"
   ]
  },
  {
   "cell_type": "code",
   "execution_count": 74,
   "metadata": {},
   "outputs": [
    {
     "name": "stdout",
     "output_type": "stream",
     "text": [
      "    *    \n",
      "    *    \n",
      "* * * * *\n",
      "    *    \n",
      "    *    \n"
     ]
    }
   ],
   "source": [
    "n=5\n",
    "matrix = [[' ']*n for i in range(n)]\n",
    "mid = int(n/2)\n",
    "\n",
    "for i in range(n):\n",
    "    matrix[mid][i] = '*'\n",
    "    matrix[i][mid] = '*'\n",
    "\n",
    "for i in matrix:\n",
    "    print(\" \".join(i))"
   ]
  },
  {
   "cell_type": "code",
   "execution_count": 102,
   "metadata": {},
   "outputs": [
    {
     "name": "stdout",
     "output_type": "stream",
     "text": [
      "*   *\n",
      " * * \n",
      "  *  \n",
      " * * \n",
      "*   *\n"
     ]
    }
   ],
   "source": [
    "n=5\n",
    "matrix = [[' ']*n for i in range(n)]\n",
    "\n",
    "count = n-1\n",
    "for j in range(n):\n",
    "    matrix[j][j] = '*'\n",
    "    matrix[j][count] = '*'\n",
    "    count -=1\n",
    "\n",
    "for i in matrix:\n",
    "    print(\"\".join(i))"
   ]
  },
  {
   "cell_type": "code",
   "execution_count": 140,
   "metadata": {},
   "outputs": [
    {
     "name": "stdout",
     "output_type": "stream",
     "text": [
      "    *    \n",
      "   * *   \n",
      "  *   *  \n",
      " *     * \n",
      "*       *\n",
      " *     * \n",
      "  *   *  \n",
      "   * *   \n",
      "    *    \n"
     ]
    }
   ],
   "source": [
    "n=5\n",
    "size = n+n-1;\n",
    "matrix = [[' ']*size for i in range(size)]\n",
    "\n",
    "count = 0;\n",
    "for i in range(n-1,-1,-1):\n",
    "    matrix[i][count] = '*'\n",
    "    matrix[n+count-1][count] = '*'\n",
    "    count = count +1\n",
    "    \n",
    "for i in range(1,n):\n",
    "    matrix[i][count] = '*'\n",
    "    matrix[size-i-1][count] = '*'   \n",
    "    count = count +1\n",
    "    \n",
    "        \n",
    "\n",
    "for i in matrix:\n",
    "    print(\"\".join(i))"
   ]
  },
  {
   "cell_type": "code",
   "execution_count": 197,
   "metadata": {},
   "outputs": [
    {
     "name": "stdout",
     "output_type": "stream",
     "text": [
      "*        *\n",
      "**      **\n",
      "***    ***\n",
      "****  ****\n",
      "**********\n",
      "****  ****\n",
      "***    ***\n",
      "**      **\n",
      "*        *\n"
     ]
    }
   ],
   "source": [
    "n=5\n",
    "for i in range(n):\n",
    "    for j in range(1,i+2):\n",
    "        print('*',end=\"\")\n",
    "    print(\" \"*(2*(n-i)-2),end=\"\")\n",
    "    print('*'*(i+1))\n",
    "    \n",
    "for i in range(4,0,-1):\n",
    "    for j in range(1,i+1):\n",
    "        print(\"*\",end=\"\");\n",
    "    print(\" \"*(2*(4-j+2)-2),end=\"\")\n",
    "    print('*'*(i))"
   ]
  },
  {
   "cell_type": "code",
   "execution_count": 199,
   "metadata": {},
   "outputs": [
    {
     "name": "stdout",
     "output_type": "stream",
     "text": [
      "**********\n",
      "****  ****\n",
      "***    ***\n",
      "**      **\n",
      "*        *\n"
     ]
    }
   ],
   "source": [
    "for i in range(5,0,-1):\n",
    "    for j in range(1,i+1):\n",
    "        print(\"*\",end=\"\");\n",
    "    print(\" \"*(2*(4-j+2)-2),end=\"\")\n",
    "    print('*'*(i))"
   ]
  },
  {
   "cell_type": "code",
   "execution_count": 200,
   "metadata": {},
   "outputs": [
    {
     "name": "stdout",
     "output_type": "stream",
     "text": [
      "*        *\n",
      "**      **\n",
      "***    ***\n",
      "****  ****\n",
      "**********\n"
     ]
    }
   ],
   "source": [
    "for i in range(n):\n",
    "    for j in range(1,i+2):\n",
    "        print('*',end=\"\")\n",
    "    print(\" \"*(2*(n-i)-2),end=\"\")\n",
    "    print('*'*(i+1))"
   ]
  },
  {
   "cell_type": "code",
   "execution_count": 225,
   "metadata": {},
   "outputs": [
    {
     "name": "stdout",
     "output_type": "stream",
     "text": [
      "# # # # # # # # #\n",
      "# #           # #\n",
      "#   #       #   #\n",
      "#     #   #     #\n",
      "#       #       #\n",
      "#     #   #     #\n",
      "#   #       #   #\n",
      "# #           # #\n",
      "# # # # # # # # #\n"
     ]
    }
   ],
   "source": [
    "size = 9;\n",
    "matrix = [[' ']*size for i in range(size)]\n",
    "\n",
    "for i in range(size):\n",
    "    matrix[0][i] = '#'\n",
    "    matrix[i][0] = '#'\n",
    "    matrix[-1][i] = '#'\n",
    "    matrix[i][-1] = '#'\n",
    "    matrix[i][i] = '#'\n",
    "    matrix[i][size-i-1] = '#'\n",
    "\n",
    "for i in matrix:\n",
    "    print(\" \".join(i))"
   ]
  },
  {
   "cell_type": "code",
   "execution_count": 226,
   "metadata": {},
   "outputs": [
    {
     "name": "stdout",
     "output_type": "stream",
     "text": [
      "# # # # # # # # #\n",
      "  #              \n",
      "    #            \n",
      "      #          \n",
      "        #        \n",
      "          #      \n",
      "            #    \n",
      "              #  \n",
      "# # # # # # # # #\n"
     ]
    }
   ],
   "source": [
    "size = 9;\n",
    "matrix = [[' ']*size for i in range(size)]\n",
    "\n",
    "for i in range(size):\n",
    "    matrix[0][i] = '#'\n",
    "    matrix[-1][i] = '#'\n",
    "    matrix[i][i] = '#'\n",
    "\n",
    "for i in matrix:\n",
    "    print(\" \".join(i))"
   ]
  },
  {
   "cell_type": "code",
   "execution_count": 227,
   "metadata": {},
   "outputs": [
    {
     "name": "stdout",
     "output_type": "stream",
     "text": [
      "# # # # # # # # #\n",
      "              #  \n",
      "            #    \n",
      "          #      \n",
      "        #        \n",
      "      #          \n",
      "    #            \n",
      "  #              \n",
      "# # # # # # # # #\n"
     ]
    }
   ],
   "source": [
    "size = 9;\n",
    "matrix = [[' ']*size for i in range(size)]\n",
    "\n",
    "for i in range(size):\n",
    "    matrix[0][i] = '#'\n",
    "    matrix[-1][i] = '#'\n",
    "    matrix[i][size-i-1] = '#'\n",
    "\n",
    "for i in matrix:\n",
    "    print(\" \".join(i))"
   ]
  },
  {
   "cell_type": "code",
   "execution_count": 223,
   "metadata": {},
   "outputs": [
    {
     "name": "stdout",
     "output_type": "stream",
     "text": [
      "* * \n",
      "* * \n",
      "* * * * \n",
      "* * * * \n",
      "* * * * * * \n",
      "* * * * * * \n"
     ]
    }
   ],
   "source": [
    "n=3\n",
    "count = 2;\n",
    "for i in range(n):\n",
    "    for j in range(2):\n",
    "        print('* '*count)\n",
    "    count +=2"
   ]
  },
  {
   "cell_type": "code",
   "execution_count": 21,
   "metadata": {},
   "outputs": [
    {
     "name": "stdout",
     "output_type": "stream",
     "text": [
      "    *    \n",
      "   * *    \n",
      "  *   *   \n",
      " *     *  \n",
      "* * * * *    \n"
     ]
    }
   ],
   "source": [
    "n=5\n",
    "size = n+n-1;\n",
    "matrix = [['']*size for i in range(n)]\n",
    "\n",
    "count = 0;\n",
    "for i in range(n-1,-1,-1):\n",
    "    matrix[i][count] = '*'\n",
    "    count = count +1\n",
    "count -= 1\n",
    "for i in range(1,n-1):\n",
    "    matrix[i][count] = '*'\n",
    "    count = count +1  \n",
    "    \n",
    "for i in range(0,5):\n",
    "    matrix[-1][i] = '*'\n",
    "    \n",
    "        \n",
    "\n",
    "for i in matrix:\n",
    "    print(\" \".join(i))"
   ]
  },
  {
   "cell_type": "code",
   "execution_count": 28,
   "metadata": {},
   "outputs": [
    {
     "name": "stdout",
     "output_type": "stream",
     "text": [
      "    *    \n",
      "   * *   \n",
      "  *   *  \n",
      " *     * \n",
      "*********\n",
      " *     * \n",
      "  *   *  \n",
      "   * *   \n",
      "    *    \n"
     ]
    }
   ],
   "source": [
    "n=5\n",
    "size = n+n-1;\n",
    "matrix = [[' ']*size for i in range(size)]\n",
    "\n",
    "mid = int(size/2);\n",
    "\n",
    "count = 0;\n",
    "for i in range(n-1,-1,-1):\n",
    "    matrix[i][count] = '*'\n",
    "    matrix[n+count-1][count] = '*'\n",
    "    count = count +1\n",
    "    \n",
    "for i in range(1,n):\n",
    "    matrix[i][count] = '*'\n",
    "    matrix[size-i-1][count] = '*'   \n",
    "    count = count +1\n",
    "    \n",
    "for i in range(size):\n",
    "    matrix[mid][i] = '*'\n",
    "    \n",
    "        \n",
    "\n",
    "for i in matrix:\n",
    "    print(\"\".join(i))"
   ]
  },
  {
   "cell_type": "code",
   "execution_count": 29,
   "metadata": {},
   "outputs": [
    {
     "name": "stdout",
     "output_type": "stream",
     "text": [
      "    *    \n",
      "   ***   \n",
      "  * * *  \n",
      " *  *  * \n",
      "*********\n",
      " *  *  * \n",
      "  * * *  \n",
      "   ***   \n",
      "    *    \n"
     ]
    }
   ],
   "source": [
    "n=5\n",
    "size = n+n-1;\n",
    "matrix = [[' ']*size for i in range(size)]\n",
    "\n",
    "mid = int(size/2);\n",
    "\n",
    "count = 0;\n",
    "for i in range(n-1,-1,-1):\n",
    "    matrix[i][count] = '*'\n",
    "    matrix[n+count-1][count] = '*'\n",
    "    count = count +1\n",
    "    \n",
    "for i in range(1,n):\n",
    "    matrix[i][count] = '*'\n",
    "    matrix[size-i-1][count] = '*'   \n",
    "    count = count +1\n",
    "    \n",
    "for i in range(size):\n",
    "    matrix[mid][i] = '*'\n",
    "    matrix[i][mid] = '*'\n",
    "    \n",
    "        \n",
    "\n",
    "for i in matrix:\n",
    "    print(\"\".join(i))"
   ]
  },
  {
   "cell_type": "code",
   "execution_count": null,
   "metadata": {},
   "outputs": [],
   "source": []
  }
 ],
 "metadata": {
  "kernelspec": {
   "display_name": "Python 3",
   "language": "python",
   "name": "python3"
  },
  "language_info": {
   "codemirror_mode": {
    "name": "ipython",
    "version": 3
   },
   "file_extension": ".py",
   "mimetype": "text/x-python",
   "name": "python",
   "nbconvert_exporter": "python",
   "pygments_lexer": "ipython3",
   "version": "3.6.5"
  }
 },
 "nbformat": 4,
 "nbformat_minor": 2
}
